{
 "cells": [
  {
   "cell_type": "code",
   "execution_count": 1,
   "metadata": {},
   "outputs": [],
   "source": [
    "# Import Necessary Libraries\n",
    "from dotenv import load_dotenv, dotenv_values\n",
    "import google.generativeai as genai\n",
    "from IPython.display import Markdown, display\n",
    "import os\n",
    "\n",
    "# Load .env file\n",
    "\n",
    "load_dotenv()\n",
    "\n",
    "# Set the TESSDATA_PREFIX environment variable\n",
    "\n",
    "tessdata = os.getenv(\"TESSDATA_PREFIX\")\n",
    "os.environ['TESSDATA_PREFIX'] = tessdata\n",
    "\n",
    "# Set the Google api key\n",
    "\n",
    "my_api_key = os.getenv(\"GOOGLE_API_KEY\")\n",
    "genai.configure(api_key=my_api_key)"
   ]
  },
  {
   "cell_type": "code",
   "execution_count": 2,
   "metadata": {},
   "outputs": [],
   "source": [
    "from langchain_google_genai import ChatGoogleGenerativeAI, GoogleGenerativeAIEmbeddings,GoogleGenerativeAI\n",
    "\n",
    "llm = GoogleGenerativeAI(model =\"gemini-pro\",temperature=0)\n",
    "embedding = GoogleGenerativeAIEmbeddings(model=\"models/text-embedding-004\") \n",
    "model = ChatGoogleGenerativeAI(model= \"gemini-1.5-flash\", temperature = 0)"
   ]
  },
  {
   "cell_type": "code",
   "execution_count": 3,
   "metadata": {},
   "outputs": [],
   "source": [
    "from typing import Literal\n",
    "\n",
    "from langchain_core.prompts import ChatPromptTemplate\n",
    "from langchain_core.pydantic_v1 import BaseModel, Field\n",
    "\n",
    "# Data model\n",
    "class RouteQuery(BaseModel):\n",
    "    \"\"\"Route a user query to the most relevant datasource.\"\"\"\n",
    "\n",
    "    datasource: Literal[\"oracle_sql\", \"mysql\", \"mongodb\"] = Field(\n",
    "        ...,\n",
    "        description=\"Given a user question choose which datasource would be most relevant for answering their question\",\n",
    "    )\n",
    "\n",
    "# LLM with function call \n",
    "structured_llm = model.with_structured_output(RouteQuery)\n",
    "\n",
    "# Prompt \n",
    "system = \"\"\"You are an expert at routing a user question to the appropriate data source.\n",
    "\n",
    "Based on the programming language the question is referring to, route it to the relevant data source.\"\"\"\n",
    "\n",
    "prompt = ChatPromptTemplate.from_messages(\n",
    "    [\n",
    "        (\"system\", system),\n",
    "        (\"human\", \"{question}\"),\n",
    "    ]\n",
    ")\n",
    "\n",
    "# Define router \n",
    "chain = prompt | structured_llm\n",
    "\n",
    "\n"
   ]
  },
  {
   "cell_type": "code",
   "execution_count": 4,
   "metadata": {},
   "outputs": [],
   "source": [
    "from langchain_core.prompts import PromptTemplate\n",
    "\n",
    "oracle_chain = PromptTemplate.from_template(\n",
    "    \"\"\"You are an expert in oracle database. \\\n",
    "Respond to the following question:\n",
    "\n",
    "Question: {question}\n",
    "Answer:\"\"\"\n",
    ") | ChatGoogleGenerativeAI(model= \"gemini-1.5-flash\", temperature = 0)\n",
    "mysql_chain = PromptTemplate.from_template(\n",
    "    \"\"\"You are an expert in mysql database. \\\n",
    "Respond to the following question:\n",
    "\n",
    "Question: {question}\n",
    "Answer:\"\"\"\n",
    ") | ChatGoogleGenerativeAI(model= \"gemini-1.5-flash\", temperature = 0)\n",
    "mongodb_chain = PromptTemplate.from_template(\n",
    "    \"\"\"You are an expert in mongodb. \\\n",
    "Respond to the following question:\n",
    "Question: {question}\n",
    "Answer:\"\"\"\n",
    ") | ChatGoogleGenerativeAI(model= \"gemini-1.5-flash\", temperature = 0)"
   ]
  },
  {
   "cell_type": "code",
   "execution_count": 5,
   "metadata": {},
   "outputs": [],
   "source": [
    "def choose_route(question):\n",
    "    result = chain.invoke({\"question\": question})\n",
    "    if \"oracle_sql\" in result.datasource.lower():\n",
    "        ### Logic here \n",
    "        print(\"Using Oracle\")\n",
    "        return oracle_chain\n",
    "    elif \"mysql\" in result.datasource.lower():\n",
    "        ### Logic here \n",
    "        print(\"Using mysql\")\n",
    "        return mysql_chain\n",
    "    else:\n",
    "        ### Logic here \n",
    "        print(\"Using mongodb\")\n",
    "        return mongodb_chain\n",
    "\n",
    "from langchain_core.runnables import RunnableLambda\n",
    "\n",
    "#full_chain = router | RunnableLambda(choose_route)"
   ]
  },
  {
   "cell_type": "code",
   "execution_count": 6,
   "metadata": {},
   "outputs": [],
   "source": [
    "\n",
    "full_chain = {\"topic\": chain, \"question\": lambda x: x[\"question\"]} | RunnableLambda(\n",
    "    choose_route) | prompt"
   ]
  },
  {
   "cell_type": "code",
   "execution_count": 7,
   "metadata": {},
   "outputs": [
    {
     "name": "stdout",
     "output_type": "stream",
     "text": [
      "Using mysql\n",
      "messages=[SystemMessage(content='You are an expert at routing a user question to the appropriate data source.\\n\\nBased on the programming language the question is referring to, route it to the relevant data source.'), HumanMessage(content='content=\"```sql\\\\nDELIMITER //\\\\n\\\\nCREATE PROCEDURE ConcatenateNames(IN userId INT, OUT fullName VARCHAR(255))\\\\nBEGIN\\\\n  SELECT CONCAT(firstName, \\' \\', lastName) INTO fullName\\\\n  FROM users\\\\n  WHERE id = userId;\\\\nEND //\\\\n\\\\nDELIMITER ;\\\\n```\\\\n\\\\n**Explanation:**\\\\n\\\\n1. **DELIMITER //:** This line changes the default delimiter from `;` to `//` to allow the stored procedure definition to span multiple lines.\\\\n2. **CREATE PROCEDURE ConcatenateNames(IN userId INT, OUT fullName VARCHAR(255)):** This line defines the stored procedure named `ConcatenateNames`. It takes an input parameter `userId` of type `INT` and an output parameter `fullName` of type `VARCHAR(255)`.\\\\n3. **BEGIN:** This line marks the start of the stored procedure\\'s code block.\\\\n4. **SELECT CONCAT(firstName, \\' \\', lastName) INTO fullName FROM users WHERE id = userId;**: This line performs the following:\\\\n   - It uses the `CONCAT` function to concatenate the `firstName` and `lastName` columns from the `users` table, separated by a space.\\\\n   - The result is stored in the output parameter `fullName`.\\\\n   - The `WHERE` clause filters the data to only include the user with the specified `userId`.\\\\n5. **END //:** This line marks the end of the stored procedure\\'s code block.\\\\n6. **DELIMITER ;:** This line restores the default delimiter back to `;`.\\\\n\\\\n**How to use the stored procedure:**\\\\n\\\\n1. **Call the procedure:**\\\\n   ```sql\\\\n   CALL ConcatenateNames(1, @fullName);\\\\n   ```\\\\n   This calls the `ConcatenateNames` procedure with `userId` set to 1 and stores the result in the user-defined variable `@fullName`.\\\\n2. **Retrieve the result:**\\\\n   ```sql\\\\n   SELECT @fullName;\\\\n   ```\\\\n   This will display the concatenated full name of the user with `userId` 1.\\\\n\\\\n**Note:**\\\\n\\\\n- Replace `users` with the actual name of your table.\\\\n- Replace `firstName` and `lastName` with the actual names of the columns containing the first and last names.\\\\n- You can modify the stored procedure to handle different scenarios, such as concatenating middle names or using different delimiters.\\\\n\" response_metadata={\\'prompt_feedback\\': {\\'block_reason\\': 0, \\'safety_ratings\\': []}, \\'finish_reason\\': \\'STOP\\', \\'safety_ratings\\': [{\\'category\\': \\'HARM_CATEGORY_SEXUALLY_EXPLICIT\\', \\'probability\\': \\'NEGLIGIBLE\\', \\'blocked\\': False}, {\\'category\\': \\'HARM_CATEGORY_HATE_SPEECH\\', \\'probability\\': \\'NEGLIGIBLE\\', \\'blocked\\': False}, {\\'category\\': \\'HARM_CATEGORY_HARASSMENT\\', \\'probability\\': \\'NEGLIGIBLE\\', \\'blocked\\': False}, {\\'category\\': \\'HARM_CATEGORY_DANGEROUS_CONTENT\\', \\'probability\\': \\'NEGLIGIBLE\\', \\'blocked\\': False}]} id=\\'run-a3fa7a80-c225-46be-b195-3b213387df11-0\\' usage_metadata={\\'input_tokens\\': 34, \\'output_tokens\\': 503, \\'total_tokens\\': 537}')]\n"
     ]
    }
   ],
   "source": [
    "\n",
    "\n",
    "result = full_chain.invoke({\"question\": \"Write a stored procedure to concatenate first name and last name in mysql\"})\n",
    "print(result)"
   ]
  },
  {
   "cell_type": "code",
   "execution_count": 8,
   "metadata": {},
   "outputs": [
    {
     "name": "stdout",
     "output_type": "stream",
     "text": [
      "Using mongodb\n",
      "messages=[SystemMessage(content='You are an expert at routing a user question to the appropriate data source.\\n\\nBased on the programming language the question is referring to, route it to the relevant data source.'), HumanMessage(content='content=\\'```javascript\\\\ndb.Employees.find({});\\\\n```\\\\n\\\\n**Explanation:**\\\\n\\\\n* `db.Employees` refers to the \"Employees\" collection within your MongoDB database.\\\\n* `.find({})` is the MongoDB command to retrieve documents from a collection.\\\\n* `{}` is an empty document filter, which means it will match all documents in the collection.\\\\n\\\\nThis query will return all documents from the \"Employees\" collection. \\\\n\\' response_metadata={\\'prompt_feedback\\': {\\'block_reason\\': 0, \\'safety_ratings\\': []}, \\'finish_reason\\': \\'STOP\\', \\'safety_ratings\\': [{\\'category\\': \\'HARM_CATEGORY_SEXUALLY_EXPLICIT\\', \\'probability\\': \\'NEGLIGIBLE\\', \\'blocked\\': False}, {\\'category\\': \\'HARM_CATEGORY_HATE_SPEECH\\', \\'probability\\': \\'NEGLIGIBLE\\', \\'blocked\\': False}, {\\'category\\': \\'HARM_CATEGORY_HARASSMENT\\', \\'probability\\': \\'NEGLIGIBLE\\', \\'blocked\\': False}, {\\'category\\': \\'HARM_CATEGORY_DANGEROUS_CONTENT\\', \\'probability\\': \\'NEGLIGIBLE\\', \\'blocked\\': False}]} id=\\'run-3fb905c9-3444-473d-b57b-afe295944f1a-0\\' usage_metadata={\\'input_tokens\\': 34, \\'output_tokens\\': 87, \\'total_tokens\\': 121}')]\n"
     ]
    }
   ],
   "source": [
    "result = full_chain.invoke({\"question\": \"Write a query to select all the documents from a MongoDB database named Employees\"})\n",
    "print(result)"
   ]
  }
 ],
 "metadata": {
  "kernelspec": {
   "display_name": "Python 3",
   "language": "python",
   "name": "python3"
  },
  "language_info": {
   "codemirror_mode": {
    "name": "ipython",
    "version": 3
   },
   "file_extension": ".py",
   "mimetype": "text/x-python",
   "name": "python",
   "nbconvert_exporter": "python",
   "pygments_lexer": "ipython3",
   "version": "3.11.5"
  }
 },
 "nbformat": 4,
 "nbformat_minor": 2
}
