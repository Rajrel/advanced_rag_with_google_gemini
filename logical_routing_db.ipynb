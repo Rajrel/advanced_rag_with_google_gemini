{
 "cells": [
  {
   "cell_type": "code",
   "execution_count": 4,
   "metadata": {},
   "outputs": [],
   "source": [
    "# Import Necessary Libraries\n",
    "\n",
    "from dotenv import load_dotenv, dotenv_values\n",
    "import google.generativeai as genai\n",
    "from IPython.display import Markdown, display\n",
    "import os\n",
    "\n",
    "# Load .env file\n",
    "\n",
    "load_dotenv()\n",
    "\n",
    "# Set the TESSDATA_PREFIX environment variable\n",
    "\n",
    "tessdata = os.getenv(\"TESSDATA_PREFIX\")\n",
    "os.environ['TESSDATA_PREFIX'] = tessdata\n",
    "\n",
    "# Set the Google api key\n",
    "\n",
    "my_api_key = os.getenv(\"GOOGLE_API_KEY\")\n",
    "genai.configure(api_key=my_api_key)"
   ]
  },
  {
   "cell_type": "code",
   "execution_count": 5,
   "metadata": {},
   "outputs": [],
   "source": [
    "from langchain_google_genai import ChatGoogleGenerativeAI, GoogleGenerativeAIEmbeddings,GoogleGenerativeAI\n",
    "\n",
    "llm = GoogleGenerativeAI(model =\"gemini-pro\",temperature=0)\n",
    "embedding = GoogleGenerativeAIEmbeddings(model=\"models/text-embedding-004\") \n",
    "model = ChatGoogleGenerativeAI(model= \"gemini-1.5-flash\", temperature = 0)"
   ]
  },
  {
   "cell_type": "code",
   "execution_count": 6,
   "metadata": {},
   "outputs": [],
   "source": [
    "from typing import Literal\n",
    "\n",
    "from langchain_core.prompts import ChatPromptTemplate\n",
    "from langchain_core.pydantic_v1 import BaseModel, Field\n",
    "\n",
    "# Data model\n",
    "class RouteQuery(BaseModel):\n",
    "    \"\"\"Route a user query to the most relevant datasource.\"\"\"\n",
    "\n",
    "    datasource: Literal[\"oracle_sql\", \"mysql\", \"mongodb\"] = Field(\n",
    "        ...,\n",
    "        description=\"Given a user question choose which datasource would be most relevant for answering their question\",\n",
    "    )\n",
    "\n",
    "# LLM with function call \n",
    "structured_llm = model.with_structured_output(RouteQuery)\n",
    "\n",
    "# Prompt \n",
    "system = \"\"\"You are an expert at routing a user question to the appropriate data source.\n",
    "\n",
    "Based on the programming language the question is referring to, route it to the relevant data source.\"\"\"\n",
    "\n",
    "prompt = ChatPromptTemplate.from_messages(\n",
    "    [\n",
    "        (\"system\", system),\n",
    "        (\"human\", \"{question}\"),\n",
    "    ]\n",
    ")\n",
    "\n",
    "# Define router \n",
    "chain = prompt | structured_llm\n",
    "\n",
    "\n"
   ]
  },
  {
   "cell_type": "code",
   "execution_count": 7,
   "metadata": {},
   "outputs": [],
   "source": [
    "from langchain_core.prompts import PromptTemplate\n",
    "\n",
    "oracle_chain = PromptTemplate.from_template(\n",
    "    \"\"\"You are an expert in oracle database. \\\n",
    "Respond to the following question:\n",
    "\n",
    "Question: {question}\n",
    "Answer:\"\"\"\n",
    ") | ChatGoogleGenerativeAI(model= \"gemini-1.5-flash\", temperature = 0)\n",
    "mysql_chain = PromptTemplate.from_template(\n",
    "    \"\"\"You are an expert in mysql database. \\\n",
    "Respond to the following question:\n",
    "\n",
    "Question: {question}\n",
    "Answer:\"\"\"\n",
    ") | ChatGoogleGenerativeAI(model= \"gemini-1.5-flash\", temperature = 0)\n",
    "mongodb_chain = PromptTemplate.from_template(\n",
    "    \"\"\"You are an expert in mongodb. \\\n",
    "Respond to the following question:\n",
    "Question: {question}\n",
    "Answer:\"\"\"\n",
    ") | ChatGoogleGenerativeAI(model= \"gemini-1.5-flash\", temperature = 0)"
   ]
  },
  {
   "cell_type": "code",
   "execution_count": 8,
   "metadata": {},
   "outputs": [],
   "source": [
    "def choose_route(question):\n",
    "    result = chain.invoke({\"question\": question})\n",
    "    if \"oracle_sql\" in result.datasource.lower():\n",
    "        ### Logic here \n",
    "        print(\"Using Oracle\")\n",
    "        return oracle_chain\n",
    "    elif \"mysql\" in result.datasource.lower():\n",
    "        ### Logic here \n",
    "        print(\"Using mysql\")\n",
    "        return mysql_chain\n",
    "    else:\n",
    "        ### Logic here \n",
    "        print(\"Using mongodb\")\n",
    "        return mongodb_chain\n",
    "\n",
    "\n",
    "\n",
    "#full_chain = router | RunnableLambda(choose_route)"
   ]
  },
  {
   "cell_type": "code",
   "execution_count": 14,
   "metadata": {},
   "outputs": [],
   "source": [
    "from langchain_core.output_parsers import StrOutputParser\n",
    "from langchain_core.runnables import RunnableLambda, RunnablePassthrough\n",
    "\n",
    "full_chain = {\"topic\": chain, \"question\": lambda x: x[\"question\"]} | RunnableLambda(\n",
    "    choose_route) "
   ]
  },
  {
   "cell_type": "code",
   "execution_count": 15,
   "metadata": {},
   "outputs": [],
   "source": [
    "final_chain =  (\n",
    "    {\"query\": RunnablePassthrough()}\n",
    "    | full_chain\n",
    "    | llm\n",
    "    | StrOutputParser()\n",
    ")"
   ]
  },
  {
   "cell_type": "code",
   "execution_count": 20,
   "metadata": {},
   "outputs": [
    {
     "name": "stdout",
     "output_type": "stream",
     "text": [
      "Using mysql\n",
      "```sql\n",
      "DELIMITER //\n",
      "\n",
      "CREATE PROCEDURE ConcatenateNames(IN userId INT, OUT fullName VARCHAR(255))\n",
      "BEGIN\n",
      "  SELECT CONCAT(firstName, ' ', lastName) INTO fullName\n",
      "  FROM users\n",
      "  WHERE id = userId;\n",
      "END //\n",
      "\n",
      "DELIMITER ;\n",
      "```\n",
      "\n",
      "**Explanation:**\n",
      "\n",
      "1. **DELIMITER //:** This line changes the default delimiter from `;` to `//` to allow the stored procedure definition to span multiple lines.\n",
      "2. **CREATE PROCEDURE ConcatenateNames(IN userId INT, OUT fullName VARCHAR(255)):** This line defines the stored procedure named `ConcatenateNames`. It takes an input parameter `userId` of type `INT` and an output parameter `fullName` of type `VARCHAR(255)`.\n",
      "3. **SELECT CONCAT(firstName, ' ', lastName) INTO fullName FROM users WHERE id = userId;**: This line performs the following:\n",
      "   - `CONCAT(firstName, ' ', lastName)`: Concatenates the `firstName` and `lastName` columns from the `users` table, separated by a space.\n",
      "   - `INTO fullName`: Stores the concatenated result into the output parameter `fullName`.\n",
      "   - `FROM users`: Specifies the table to retrieve data from.\n",
      "   - `WHERE id = userId`: Filters the data to only include the user with the specified `userId`.\n",
      "4. **END //:** This line marks the end of the stored procedure definition.\n",
      "5. **DELIMITER ;:** This line restores the default delimiter back to `;`.\n",
      "\n",
      "**How to use the stored procedure:**\n",
      "\n",
      "1. **Call the procedure:**\n",
      "   ```sql\n",
      "   CALL ConcatenateNames(1, @fullName);\n",
      "   ```\n",
      "   This calls the `ConcatenateNames` procedure with `userId` set to 1 and stores the result in the user-defined variable `@fullName`.\n",
      "2. **Retrieve the result:**\n",
      "   ```sql\n",
      "   SELECT @fullName;\n",
      "   ```\n",
      "   This will display the concatenated full name of the user with `userId` 1.\n",
      "\n",
      "**Note:**\n",
      "\n",
      "- Replace `users` with the actual name of your table.\n",
      "- Replace `firstName` and `lastName` with the actual names of the columns containing the first and last names.\n",
      "- You can modify the stored procedure to handle different scenarios, such as handling null values or using different delimiters.\n",
      "\n",
      "CPU times: total: 0 ns\n",
      "Wall time: 5.73 s\n"
     ]
    }
   ],
   "source": [
    "%%time\n",
    "\n",
    "result = full_chain.invoke({\"question\": \"Write a stored procedure to concatenate first name and last name in mysql\"})\n",
    "print(result.content)"
   ]
  }
 ],
 "metadata": {
  "kernelspec": {
   "display_name": "Python 3",
   "language": "python",
   "name": "python3"
  },
  "language_info": {
   "codemirror_mode": {
    "name": "ipython",
    "version": 3
   },
   "file_extension": ".py",
   "mimetype": "text/x-python",
   "name": "python",
   "nbconvert_exporter": "python",
   "pygments_lexer": "ipython3",
   "version": "3.11.5"
  }
 },
 "nbformat": 4,
 "nbformat_minor": 2
}
