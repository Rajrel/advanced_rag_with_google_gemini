{
 "cells": [
  {
   "cell_type": "code",
   "execution_count": 1,
   "metadata": {},
   "outputs": [],
   "source": [
    "# Import Necessary Libraries\n",
    "\n",
    "from dotenv import load_dotenv, dotenv_values\n",
    "import google.generativeai as genai\n",
    "from IPython.display import Markdown, display\n",
    "import os\n",
    "\n",
    "# Load .env file\n",
    "\n",
    "load_dotenv()\n",
    "\n",
    "# Set the TESSDATA_PREFIX environment variable\n",
    "\n",
    "tessdata = os.getenv(\"TESSDATA_PREFIX\")\n",
    "os.environ['TESSDATA_PREFIX'] = tessdata\n",
    "\n",
    "# Set the Google api key\n",
    "\n",
    "my_api_key = os.getenv(\"GOOGLE_API_KEY\")\n",
    "genai.configure(api_key=my_api_key)"
   ]
  },
  {
   "cell_type": "code",
   "execution_count": 2,
   "metadata": {},
   "outputs": [],
   "source": [
    "\n",
    "from langchain_google_genai import ChatGoogleGenerativeAI, GoogleGenerativeAIEmbeddings\n",
    "import warnings \n",
    "  \n",
    "chat = ChatGoogleGenerativeAI(model= \"gemini-1.5-flash\", temperature = 0)\n",
    "# Settings the warnings to be ignored \n",
    "warnings.filterwarnings('ignore') "
   ]
  },
  {
   "cell_type": "code",
   "execution_count": 3,
   "metadata": {},
   "outputs": [],
   "source": [
    "import base64\n",
    "import os\n",
    "\n",
    "from langchain_core.messages import HumanMessage\n",
    "\n",
    "\n",
    "def encode_image(image_path):\n",
    "    \"\"\"Getting the base64 string\"\"\"\n",
    "    with open(image_path, \"rb\") as image_file:\n",
    "        return base64.b64encode(image_file.read()).decode(\"utf-8\")\n",
    "\n",
    "\n",
    "def image_summarize(img_base64, prompt,chat):\n",
    "    \"\"\"Make image summary\"\"\"\n",
    "    \n",
    "    msg = chat.invoke(\n",
    "        [\n",
    "            HumanMessage(\n",
    "                content=[\n",
    "                    {\"type\": \"text\", \"text\": prompt},\n",
    "                    {\n",
    "                        \"type\": \"image_url\",\n",
    "                        \"image_url\": {\"url\": f\"data:image/png;base64,{img_base64}\"},\n",
    "                    },\n",
    "                ]\n",
    "            )\n",
    "        ]\n",
    "    )\n",
    "    return msg.content\n",
    "\n",
    "\n",
    "def generate_img_summaries(path):\n",
    "    \"\"\"\n",
    "    Generate summaries and base64 encoded strings for images\n",
    "    path: Path to list of .png files extracted by Unstructured\n",
    "    \"\"\"\n",
    "\n",
    "    # Store base64 encoded images\n",
    "    img_base64_list = []\n",
    "\n",
    "    # Store image summaries\n",
    "    image_summaries = []\n",
    "\n",
    "    # Prompt\n",
    "    prompt = \"\"\"You are an assistant tasked with summarizing database schemas for retrieval. \n",
    "    These summaries will be embedded and used to retrieve the raw image. \\ \n",
    "    Start with the Name of the Schema and provide     a concise summary of the image that is well optimized for retrieval.\"\"\"\n",
    "\n",
    "    # Apply to images\n",
    "    for img_file in sorted(os.listdir(path)):\n",
    "        if img_file.endswith(\".png\"):\n",
    "            img_path = os.path.join(path, img_file)\n",
    "            base64_image = encode_image(img_path)\n",
    "            img_base64_list.append(base64_image)\n",
    "            image_summaries.append(image_summarize(base64_image, prompt,chat))\n",
    "\n",
    "    return img_base64_list, image_summaries\n",
    "\n",
    "\n",
    "# Image summaries\n",
    "\n",
    "\n",
    "fpath = \"schemas/\"\n",
    "img_base64_list, image_summaries = generate_img_summaries(fpath)"
   ]
  },
  {
   "cell_type": "code",
   "execution_count": 4,
   "metadata": {},
   "outputs": [
    {
     "name": "stdout",
     "output_type": "stream",
     "text": [
      "0 - ## Database Schema: Movie Rental Database\n",
      "\n",
      "This database schema represents a movie rental system. It includes information about movies, actors, categories, languages, stores, customers, rentals, payments, and addresses. The schema is designed to track movie inventory, customer information, rental transactions, and payment details. It also includes information about staff members, store locations, and addresses. \n",
      "\n",
      "1 - ## regions\n",
      "This schema contains information about regions, including their ID and name.\n",
      "\n",
      "## countries\n",
      "This schema contains information about countries, including their ID, name, and region ID.\n",
      "\n",
      "## locations\n",
      "This schema contains information about locations, including their ID, street address, postal code, city, state/province, and country ID.\n",
      "\n",
      "## departments\n",
      "This schema contains information about departments, including their ID, name, manager ID, and location ID.\n",
      "\n",
      "## employees\n",
      "This schema contains information about employees, including their ID, first name, last name, email, phone number, hire date, job ID, salary, commission percentage, manager ID, and department ID.\n",
      "\n",
      "## jobs\n",
      "This schema contains information about jobs, including their ID, title, minimum salary, and maximum salary. \n",
      "\n"
     ]
    }
   ],
   "source": [
    "for index, image_summary in enumerate(image_summaries):\n",
    "    print(index,\"-\", image_summary)\n"
   ]
  },
  {
   "cell_type": "code",
   "execution_count": 5,
   "metadata": {},
   "outputs": [],
   "source": [
    "import uuid\n",
    "\n",
    "from langchain.retrievers.multi_vector import MultiVectorRetriever\n",
    "from langchain.storage import InMemoryStore\n",
    "from langchain_community.vectorstores import Chroma\n",
    "from langchain_core.documents import Document\n",
    "from langchain_core.output_parsers import StrOutputParser\n",
    "\n",
    "\n",
    "def create_multi_vector_retriever(\n",
    "    vectorstore, image_summaries, images\n",
    "):\n",
    "    \"\"\"\n",
    "    Create retriever that indexes summaries, but returns raw images or texts\n",
    "    \"\"\"\n",
    "\n",
    "    # Initialize the storage layer\n",
    "    store = InMemoryStore()\n",
    "    id_key = \"doc_id\"\n",
    "\n",
    "    # Create the multi-vector retriever\n",
    "    retriever = MultiVectorRetriever(\n",
    "        vectorstore=vectorstore,\n",
    "        docstore=store,\n",
    "        id_key=id_key,\n",
    "    )\n",
    "\n",
    "    # Helper function to add documents to the vectorstore and docstore\n",
    "    def add_documents(retriever, doc_summaries, doc_contents):\n",
    "        doc_ids = [str(uuid.uuid4()) for _ in doc_contents]\n",
    "        summary_docs = [\n",
    "            Document(page_content=s, metadata={id_key: doc_ids[i]})\n",
    "            for i, s in enumerate(doc_summaries)\n",
    "        ]\n",
    "        retriever.vectorstore.add_documents(summary_docs)\n",
    "        retriever.docstore.mset(list(zip(doc_ids, doc_contents)))\n",
    "\n",
    "    if image_summaries:\n",
    "        add_documents(retriever, image_summaries, images)\n",
    "\n",
    "    return retriever\n",
    "\n",
    "embedding = GoogleGenerativeAIEmbeddings(model=\"models/text-embedding-004\")\n",
    "# The vectorstore to use to index the summaries\n",
    "vectorstore = Chroma(\n",
    "    collection_name=\"mm_rag_cj_blog\", embedding_function=embedding\n",
    ")\n",
    "\n",
    "# Create retriever\n",
    "retriever_multi_vector_img = create_multi_vector_retriever(\n",
    "    vectorstore,\n",
    "    image_summaries,\n",
    "    img_base64_list,\n",
    ")"
   ]
  },
  {
   "cell_type": "code",
   "execution_count": 9,
   "metadata": {},
   "outputs": [],
   "source": [
    "import io\n",
    "import re\n",
    "\n",
    "from IPython.display import HTML, display\n",
    "from langchain_core.runnables import RunnableLambda, RunnablePassthrough\n",
    "from PIL import Image\n",
    "\n",
    "\n",
    "def plt_img_base64(img_base64):\n",
    "    \"\"\"Disply base64 encoded string as image\"\"\"\n",
    "    # Create an HTML img tag with the base64 string as the source\n",
    "    image_html = f'<img src=\"data:image/jpeg;base64,{img_base64}\" />'\n",
    "    # Display the image by rendering the HTML\n",
    "    display(HTML(image_html))\n",
    "\n",
    "\n",
    "def looks_like_base64(sb):\n",
    "    \"\"\"Check if the string looks like base64\"\"\"\n",
    "    return re.match(\"^[A-Za-z0-9+/]+[=]{0,2}$\", sb) is not None\n",
    "\n",
    "\n",
    "def is_image_data(b64data):\n",
    "    \"\"\"\n",
    "    Check if the base64 data is an image by looking at the start of the data\n",
    "    \"\"\"\n",
    "    image_signatures = {\n",
    "        b\"\\xff\\xd8\\xff\": \"jpg\",\n",
    "        b\"\\x89\\x50\\x4e\\x47\\x0d\\x0a\\x1a\\x0a\": \"png\",\n",
    "        b\"\\x47\\x49\\x46\\x38\": \"gif\",\n",
    "        b\"\\x52\\x49\\x46\\x46\": \"webp\",\n",
    "    }\n",
    "    try:\n",
    "        header = base64.b64decode(b64data)[:8]  # Decode and get the first 8 bytes\n",
    "        for sig, format in image_signatures.items():\n",
    "            if header.startswith(sig):\n",
    "                return True\n",
    "        return False\n",
    "    except Exception:\n",
    "        return False\n",
    "\n",
    "\n",
    "def resize_base64_image(base64_string, size=(128, 128)):\n",
    "    \"\"\"\n",
    "    Resize an image encoded as a Base64 string\n",
    "    \"\"\"\n",
    "    # Decode the Base64 string\n",
    "    img_data = base64.b64decode(base64_string)\n",
    "    img = Image.open(io.BytesIO(img_data))\n",
    "\n",
    "    # Resize the image\n",
    "    resized_img = img.resize(size, Image.LANCZOS)\n",
    "\n",
    "    # Save the resized image to a bytes buffer\n",
    "    buffered = io.BytesIO()\n",
    "    resized_img.save(buffered, format=img.format)\n",
    "\n",
    "    # Encode the resized image to Base64\n",
    "    return base64.b64encode(buffered.getvalue()).decode(\"utf-8\")\n",
    "\n",
    "\n",
    "def split_image_text_types(docs):\n",
    "    \"\"\"\n",
    "    Split base64-encoded images and texts\n",
    "    \"\"\"\n",
    "    b64_images = []\n",
    "    texts = []\n",
    "    for doc in docs:\n",
    "        # Check if the document is of type Document and extract page_content if so\n",
    "        if isinstance(doc, Document):\n",
    "            doc = doc.page_content\n",
    "        if looks_like_base64(doc) and is_image_data(doc):\n",
    "            doc = resize_base64_image(doc, size=(1300, 600))\n",
    "            b64_images.append(doc)\n",
    "        else:\n",
    "            texts.append(doc)\n",
    "    return {\"images\": b64_images, \"texts\": texts}\n",
    "\n",
    "\n",
    "def img_prompt_func(data_dict):\n",
    "    \"\"\"\n",
    "    Join the context into a single string\n",
    "    \"\"\"\n",
    "    formatted_texts = \"\\n\".join(data_dict[\"context\"][\"texts\"])\n",
    "    messages = []\n",
    "\n",
    "    # Adding image(s) to the messages if present\n",
    "    if data_dict[\"context\"][\"images\"]:\n",
    "        for image in data_dict[\"context\"][\"images\"]:\n",
    "            image_message = {\n",
    "                \"type\": \"image_url\",\n",
    "                \"image_url\": {\"url\": f\"data:image/jpeg;base64,{image}\"},\n",
    "            }\n",
    "            messages.append(image_message)\n",
    "\n",
    "    # Adding the text for analysis\n",
    "    text_message = {\n",
    "        \"type\": \"text\",\n",
    "        \"text\": (\n",
    "            \"\"\"You are a technical database schema and sql query generation expert. \n",
    "            You will be provided with various types of schemas in various file and image formats. \n",
    "            Your task is to generate concise, accurate answers without adding any information you are not confident about. \n",
    "            Do not be verbose - answer only what is asked in the question. \n",
    "            While generating queries follow the standard convention of each database type like Oracle, hive, mysql etc.\n",
    "\n",
    "\n",
    "                    Important Guidelines:\n",
    "                    * Prioritize accuracy:  If you are uncertain about any detail, state \"Unknown\" or \"Not visible\" instead of guessing.\n",
    "                    * Avoid hallucinations: Do not add information that is not directly supported by the image.\n",
    "                    * Be specific: Use precise language to describe shapes, colors, textures, and any interactions depicted.\n",
    "                    * Consider context: If the image is a screenshot or contains text, incorporate that information into your description.\n",
    "                    \"\"\"\n",
    "            f\"User-provided question: {data_dict['question']}\\n\\n\"\n",
    "            \"Text and / or tables:\\n\"\n",
    "            f\"{formatted_texts}\"\n",
    "        ),\n",
    "    }\n",
    "    messages.append(text_message)\n",
    "    return [HumanMessage(content=messages)]\n",
    "\n",
    "\n",
    "def multi_modal_rag_chain(retriever,chat):\n",
    "    \"\"\"\n",
    "    Multi-modal RAG chain\n",
    "    \"\"\"\n",
    "\n",
    " \n",
    "        # RAG pipeline\n",
    "    chain = (\n",
    "        {\n",
    "            \"context\": retriever | RunnableLambda(split_image_text_types),\n",
    "            \"question\": RunnablePassthrough(),\n",
    "        }\n",
    "        | RunnableLambda(img_prompt_func)\n",
    "        | chat\n",
    "        | StrOutputParser()\n",
    "    )\n",
    "\n",
    "    return chain\n",
    "\n",
    "# Create RAG chain\n",
    "query_generation_chain= multi_modal_rag_chain(retriever_multi_vector_img,chat)\n"
   ]
  },
  {
   "cell_type": "markdown",
   "metadata": {},
   "source": [
    "### MetaData Test"
   ]
  },
  {
   "cell_type": "code",
   "execution_count": 10,
   "metadata": {},
   "outputs": [
    {
     "name": "stderr",
     "output_type": "stream",
     "text": [
      "Number of requested results 4 is greater than number of elements in index 2, updating n_results = 2\n"
     ]
    },
    {
     "name": "stdout",
     "output_type": "stream",
     "text": [
      "| Column Name | Data Type | Length |\n",
      "|---|---|---|\n",
      "| JOB_ID | VARCHAR | 10 |\n",
      "| JOB_TITLE | VARCHAR | 35 |\n",
      "| MIN_SALARY | NUMBER |  |\n",
      "| MAX_SALARY | NUMBER |  |\n"
     ]
    }
   ],
   "source": [
    "prompt = \"data types and data lengths of all the columns in jobs table \"\n",
    "result = query_generation_chain.invoke(prompt)\n",
    "print(result)"
   ]
  },
  {
   "cell_type": "code",
   "execution_count": 11,
   "metadata": {},
   "outputs": [
    {
     "name": "stderr",
     "output_type": "stream",
     "text": [
      "Number of requested results 4 is greater than number of elements in index 2, updating n_results = 2\n"
     ]
    },
    {
     "name": "stdout",
     "output_type": "stream",
     "text": [
      "- film_category\n",
      "- category\n",
      "- film\n",
      "- language\n",
      "- inventory\n",
      "- rental\n",
      "- customer\n",
      "- store\n",
      "- staff\n",
      "- address\n",
      "- city\n",
      "- country\n",
      "- payment\n",
      "- actor\n",
      "- film_actor\n",
      "- film_text\n",
      "- film_list\n"
     ]
    }
   ],
   "source": [
    "prompt = \"\"\"Enumerate all the tables in bulleted points mentioned in dvd rental schema\"\"\"\n",
    "result = query_generation_chain.invoke(prompt)\n",
    "print(result)"
   ]
  },
  {
   "cell_type": "code",
   "execution_count": 66,
   "metadata": {},
   "outputs": [
    {
     "name": "stderr",
     "output_type": "stream",
     "text": [
      "Number of requested results 4 is greater than number of elements in index 2, updating n_results = 2\n"
     ]
    },
    {
     "name": "stdout",
     "output_type": "stream",
     "text": [
      "```sql\n",
      "ALTER TABLE employees MODIFY (COMMISSION_PCT DECIMAL);\n",
      "```\n"
     ]
    }
   ],
   "source": [
    "prompt = \"\"\"Generate a query to update the datatype of the column COMMISSION_PCT to decimal in oracle\"\"\"\n",
    "result = query_generation_chain.invoke(prompt)\n",
    "print(result)"
   ]
  },
  {
   "cell_type": "markdown",
   "metadata": {},
   "source": [
    "### Fake schema test"
   ]
  },
  {
   "cell_type": "code",
   "execution_count": 12,
   "metadata": {},
   "outputs": [
    {
     "name": "stderr",
     "output_type": "stream",
     "text": [
      "Number of requested results 4 is greater than number of elements in index 2, updating n_results = 2\n"
     ]
    },
    {
     "name": "stdout",
     "output_type": "stream",
     "text": [
      "Unknown. The provided image does not contain tables named 'langchain' and 'haystack'.\n"
     ]
    }
   ],
   "source": [
    "\n",
    "## Fake Prompt\n",
    "prompt = \"Write sql queries to join langchain and haystack tables\"\n",
    "result = query_generation_chain.invoke(prompt)\n",
    "print(result)"
   ]
  },
  {
   "cell_type": "markdown",
   "metadata": {},
   "source": [
    "### DDL Queries"
   ]
  },
  {
   "cell_type": "code",
   "execution_count": 63,
   "metadata": {},
   "outputs": [
    {
     "name": "stderr",
     "output_type": "stream",
     "text": [
      "Number of requested results 4 is greater than number of elements in index 2, updating n_results = 2\n"
     ]
    },
    {
     "name": "stdout",
     "output_type": "stream",
     "text": [
      "```sql\n",
      "CREATE TABLE employees (\n",
      "    EMPLOYEE_ID NUMBER,\n",
      "    FIRST_NAME VARCHAR2(20),\n",
      "    LAST_NAME VARCHAR2(25),\n",
      "    EMAIL VARCHAR2(25),\n",
      "    PHONE_NUMBER VARCHAR2(20),\n",
      "    HIRE_DATE DATE,\n",
      "    JOB_ID VARCHAR2(10),\n",
      "    SALARY NUMBER,\n",
      "    COMMISSION_PCT NUMBER,\n",
      "    MANAGER_ID NUMBER,\n",
      "    DEPARTMENT_ID NUMBER\n",
      ");\n",
      "\n",
      "DROP TABLE employees;\n",
      "```\n"
     ]
    }
   ],
   "source": [
    "prompt = \"Generate a query to create and delete employees schema\"\n",
    "result = query_generation_chain.invoke(prompt)\n",
    "print(result)"
   ]
  },
  {
   "cell_type": "code",
   "execution_count": 64,
   "metadata": {},
   "outputs": [
    {
     "name": "stderr",
     "output_type": "stream",
     "text": [
      "Number of requested results 4 is greater than number of elements in index 2, updating n_results = 2\n"
     ]
    },
    {
     "name": "stdout",
     "output_type": "stream",
     "text": [
      "```sql\n",
      "ALTER TABLE employees\n",
      "RENAME COLUMN salary TO Total_salary;\n",
      "```\n"
     ]
    }
   ],
   "source": [
    "prompt = \"Generate a query to rename the salary column to Total_salary\"\n",
    "result = query_generation_chain.invoke(prompt)\n",
    "print(result)"
   ]
  },
  {
   "cell_type": "markdown",
   "metadata": {},
   "source": [
    "### DML"
   ]
  },
  {
   "cell_type": "code",
   "execution_count": 67,
   "metadata": {},
   "outputs": [
    {
     "name": "stderr",
     "output_type": "stream",
     "text": [
      "Number of requested results 4 is greater than number of elements in index 2, updating n_results = 2\n"
     ]
    },
    {
     "name": "stdout",
     "output_type": "stream",
     "text": [
      "```sql\n",
      "-- Delete a row from the customer table\n",
      "DELETE FROM customer WHERE customer_id = 1;\n",
      "\n",
      "-- Insert a row into the customer table\n",
      "INSERT INTO customer (customer_id, store_id, first_name, last_name, email, address_id, active, last_update_timestamp) \n",
      "VALUES (1, 1, 'John', 'Doe', 'john.doe@example.com', 1, 1, NOW());\n",
      "```\n"
     ]
    }
   ],
   "source": [
    "prompt = \"Generate a query each to delete and insert a row in customer table\"\n",
    "result = query_generation_chain.invoke(prompt)\n",
    "print(result)"
   ]
  },
  {
   "cell_type": "markdown",
   "metadata": {},
   "source": [
    "### Joins"
   ]
  },
  {
   "cell_type": "code",
   "execution_count": 13,
   "metadata": {},
   "outputs": [
    {
     "name": "stderr",
     "output_type": "stream",
     "text": [
      "Number of requested results 4 is greater than number of elements in index 2, updating n_results = 2\n"
     ]
    },
    {
     "name": "stdout",
     "output_type": "stream",
     "text": [
      "```sql\n",
      "SELECT *\n",
      "FROM departments d\n",
      "JOIN employees e ON d.department_id = e.department_id\n",
      "JOIN jobs j ON e.job_id = j.job_id;\n",
      "```\n"
     ]
    }
   ],
   "source": [
    "\n",
    "prompt = \"Write a join query to join departments and jobs table - if they do not have relationship - frame the query using intermediate tables\"\n",
    "# Run RAG chain\n",
    "result = query_generation_chain.invoke(prompt)\n",
    "print(result)"
   ]
  },
  {
   "cell_type": "code",
   "execution_count": 14,
   "metadata": {},
   "outputs": [
    {
     "name": "stderr",
     "output_type": "stream",
     "text": [
      "Number of requested results 4 is greater than number of elements in index 2, updating n_results = 2\n"
     ]
    },
    {
     "name": "stdout",
     "output_type": "stream",
     "text": [
      "```sql\n",
      "SELECT *\n",
      "FROM employees e\n",
      "FULL OUTER JOIN departments d ON e.department_id = d.department_id;\n",
      "```\n"
     ]
    }
   ],
   "source": [
    "prompt = \"Write a full outer join query to join employees and departments table?\"\n",
    "result = query_generation_chain.invoke(prompt)\n",
    "print(result)"
   ]
  },
  {
   "cell_type": "markdown",
   "metadata": {},
   "source": [
    "### Case Statement"
   ]
  },
  {
   "cell_type": "code",
   "execution_count": 15,
   "metadata": {},
   "outputs": [
    {
     "name": "stderr",
     "output_type": "stream",
     "text": [
      "Number of requested results 4 is greater than number of elements in index 2, updating n_results = 2\n"
     ]
    },
    {
     "name": "stdout",
     "output_type": "stream",
     "text": [
      "```sql\n",
      "SELECT \n",
      "    *,\n",
      "    CASE\n",
      "        WHEN MANAGER_ID IS NOT NULL THEN 'M_YES'\n",
      "        ELSE 'M_NO'\n",
      "    END AS M_YES_NO\n",
      "FROM employees;\n",
      "```\n"
     ]
    }
   ],
   "source": [
    "# Case statements\n",
    "\n",
    "prompt = \"\"\"Write a sql query for the following situation : \n",
    " if the employees have managers then create a temporary column called 'M_YES' \n",
    " and if the employess do not have mangers then 'M_NO'\"\"\"\n",
    "\n",
    "# Run RAG chain\n",
    "result = query_generation_chain.invoke(prompt)\n",
    "print(result)"
   ]
  },
  {
   "cell_type": "markdown",
   "metadata": {},
   "source": [
    "### Analytical Query "
   ]
  },
  {
   "cell_type": "code",
   "execution_count": 16,
   "metadata": {},
   "outputs": [
    {
     "name": "stderr",
     "output_type": "stream",
     "text": [
      "Number of requested results 4 is greater than number of elements in index 2, updating n_results = 2\n"
     ]
    },
    {
     "name": "stdout",
     "output_type": "stream",
     "text": [
      "```sql\n",
      "SELECT EMPLOYEE_ID, FIRST_NAME, LAST_NAME, SALARY, DENSE_RANK() OVER (ORDER BY SALARY DESC) AS SALARY_RANK\n",
      "FROM employees\n",
      "ORDER BY SALARY_RANK;\n",
      "```\n"
     ]
    }
   ],
   "source": [
    "\n",
    "\n",
    "# Rank\n",
    "prompt = prompt = \"\"\" 1. Order the employees in the order of the salary they earn - \n",
    "           2. start with the one getting the highest \n",
    "           3. rank them in numbers \n",
    "           \"\"\"\n",
    "\n",
    "# Run RAG chain\n",
    "result = query_generation_chain.invoke(prompt)\n",
    "print(result)"
   ]
  },
  {
   "cell_type": "code",
   "execution_count": 18,
   "metadata": {},
   "outputs": [
    {
     "name": "stderr",
     "output_type": "stream",
     "text": [
      "Number of requested results 4 is greater than number of elements in index 2, updating n_results = 2\n"
     ]
    },
    {
     "name": "stdout",
     "output_type": "stream",
     "text": [
      "```sql\n",
      "SELECT EMPLOYEE_ID,\n",
      "       FIRST_NAME,\n",
      "       LAST_NAME,\n",
      "       SALARY,\n",
      "       DENSE_RANK() OVER (ORDER BY SALARY DESC) AS SALARY_RANK\n",
      "FROM employees\n",
      "ORDER BY SALARY_RANK;\n",
      "```\n"
     ]
    }
   ],
   "source": [
    "# Dense Rank\n",
    "prompt = \"\"\" 1. Order the employees in the order of the salary they earn - \n",
    "           2. start with the one getting the highest \n",
    "           3. rank them in numbers \n",
    "           and \n",
    "           4.if two employees have same salary provide them the same number\"\"\"\n",
    "result = query_generation_chain.invoke(prompt)\n",
    "print(result)"
   ]
  },
  {
   "cell_type": "code",
   "execution_count": 19,
   "metadata": {},
   "outputs": [
    {
     "name": "stderr",
     "output_type": "stream",
     "text": [
      "Number of requested results 4 is greater than number of elements in index 2, updating n_results = 2\n"
     ]
    },
    {
     "name": "stdout",
     "output_type": "stream",
     "text": [
      "```sql\n",
      "SELECT store_id, MIN(rental_id) AS min_rental_id\n",
      "FROM rental\n",
      "GROUP BY store_id;\n",
      "```\n"
     ]
    }
   ],
   "source": [
    "\n",
    "prompt = \"\"\"Calculate the lowest number of rentals for each store. Use analytical functions if feasible\"\"\"\n",
    "\n",
    "# Run RAG chain\n",
    "result = query_generation_chain.invoke(prompt)\n",
    "print(result)"
   ]
  },
  {
   "cell_type": "code",
   "execution_count": 20,
   "metadata": {},
   "outputs": [
    {
     "name": "stderr",
     "output_type": "stream",
     "text": [
      "Number of requested results 4 is greater than number of elements in index 2, updating n_results = 2\n"
     ]
    },
    {
     "name": "stdout",
     "output_type": "stream",
     "text": [
      "```sql\n",
      "WITH RentalStore AS (\n",
      "  SELECT\n",
      "    r.store_id,\n",
      "    ROW_NUMBER() OVER (PARTITION BY r.store_id ORDER BY r.rental_date DESC) AS row_num\n",
      "  FROM rental AS r\n",
      ")\n",
      "SELECT\n",
      "  rs.store_id,\n",
      "  rs.row_num\n",
      "FROM RentalStore AS rs;\n",
      "```\n"
     ]
    }
   ],
   "source": [
    "## Row Number\n",
    "prompt = \"\"\"Assign a row number to the output set when the output set is organized by store in rental table and ordered in descending order.\"\"\"\n",
    "\n",
    "result = query_generation_chain.invoke(prompt)\n",
    "print(result)"
   ]
  },
  {
   "cell_type": "markdown",
   "metadata": {},
   "source": [
    "### Functions and Procedures"
   ]
  },
  {
   "cell_type": "code",
   "execution_count": 21,
   "metadata": {},
   "outputs": [
    {
     "name": "stderr",
     "output_type": "stream",
     "text": [
      "Number of requested results 4 is greater than number of elements in index 2, updating n_results = 2\n"
     ]
    },
    {
     "name": "stdout",
     "output_type": "stream",
     "text": [
      "```sql\n",
      "CREATE OR REPLACE FUNCTION add_employee (\n",
      "    p_first_name VARCHAR2,\n",
      "    p_last_name VARCHAR2,\n",
      "    p_email VARCHAR2,\n",
      "    p_phone_number VARCHAR2,\n",
      "    p_hire_date DATE,\n",
      "    p_job_id NUMBER,\n",
      "    p_salary NUMBER,\n",
      "    p_commission_pct NUMBER,\n",
      "    p_manager_id NUMBER,\n",
      "    p_department_id NUMBER\n",
      ")\n",
      "RETURN NUMBER IS\n",
      "    v_employee_id NUMBER;\n",
      "BEGIN\n",
      "    INSERT INTO employees (\n",
      "        first_name,\n",
      "        last_name,\n",
      "        email,\n",
      "        phone_number,\n",
      "        hire_date,\n",
      "        job_id,\n",
      "        salary,\n",
      "        commission_pct,\n",
      "        manager_id,\n",
      "        department_id\n",
      "    ) VALUES (\n",
      "        p_first_name,\n",
      "        p_last_name,\n",
      "        p_email,\n",
      "        p_phone_number,\n",
      "        p_hire_date,\n",
      "        p_job_id,\n",
      "        p_salary,\n",
      "        p_commission_pct,\n",
      "        p_manager_id,\n",
      "        p_department_id\n",
      "    );\n",
      "    SELECT employee_id INTO v_employee_id FROM employees WHERE first_name = p_first_name AND last_name = p_last_name;\n",
      "    RETURN v_employee_id;\n",
      "END;\n",
      "/\n",
      "```\n"
     ]
    }
   ],
   "source": [
    "prompt = \"\"\"Write a sql function to add a new employee in the employees table in oracle database\"\"\"\n",
    "\n",
    "# Run RAG chain\n",
    "result = query_generation_chain.invoke(prompt)\n",
    "print(result)"
   ]
  },
  {
   "cell_type": "code",
   "execution_count": 22,
   "metadata": {},
   "outputs": [
    {
     "name": "stderr",
     "output_type": "stream",
     "text": [
      "Number of requested results 4 is greater than number of elements in index 2, updating n_results = 2\n"
     ]
    },
    {
     "name": "stdout",
     "output_type": "stream",
     "text": [
      "```sql\n",
      "-- Stored procedure to add a new rental customer\n",
      "DELIMITER //\n",
      "CREATE PROCEDURE add_rental_customer(\n",
      "    IN customer_name VARCHAR(45),\n",
      "    IN first_name VARCHAR(45),\n",
      "    IN last_name VARCHAR(45),\n",
      "    IN email VARCHAR(50),\n",
      "    IN address VARCHAR(50),\n",
      "    IN active TINYINT(1),\n",
      "    IN active_date DATE\n",
      ")\n",
      "BEGIN\n",
      "    INSERT INTO customer (\n",
      "        cust_name,\n",
      "        first_name,\n",
      "        last_name,\n",
      "        email,\n",
      "        address,\n",
      "        active,\n",
      "        active_date\n",
      "    ) VALUES (\n",
      "        customer_name,\n",
      "        first_name,\n",
      "        last_name,\n",
      "        email,\n",
      "        address,\n",
      "        active,\n",
      "        active_date\n",
      "    );\n",
      "END //\n",
      "DELIMITER ;\n",
      "```\n"
     ]
    }
   ],
   "source": [
    "prompt = \"\"\"Write a stored procedure to add a new rental customer information in the Mysql database\"\"\"\n",
    "\n",
    "# Run RAG chain\n",
    "result = query_generation_chain.invoke(prompt)\n",
    "print(result)"
   ]
  },
  {
   "cell_type": "markdown",
   "metadata": {},
   "source": [
    "### Specifying Datasources"
   ]
  },
  {
   "cell_type": "code",
   "execution_count": 56,
   "metadata": {},
   "outputs": [
    {
     "name": "stderr",
     "output_type": "stream",
     "text": [
      "Number of requested results 4 is greater than number of elements in index 2, updating n_results = 2\n"
     ]
    },
    {
     "name": "stdout",
     "output_type": "stream",
     "text": [
      "```sql\n",
      "-- Oracle\n",
      "SELECT * FROM employees WHERE ROWNUM <= 100;\n",
      "\n",
      "-- MySQL\n",
      "SELECT * FROM employees LIMIT 100;\n",
      "\n",
      "-- MongoDB\n",
      "db.employees.find().limit(100);\n",
      "\n",
      "-- Hive\n",
      "SELECT * FROM employees LIMIT 100;\n",
      "```\n"
     ]
    }
   ],
   "source": [
    "prompt = \"\"\"Write queries to retrieve 100 records from employees database for oracle, mysql, mongodb, hive, databases  \"\"\"\n",
    "\n",
    "# Run RAG chain\n",
    "result = query_generation_chain.invoke(prompt)\n",
    "print(result)"
   ]
  },
  {
   "cell_type": "markdown",
   "metadata": {},
   "source": [
    "### Generating Codes"
   ]
  },
  {
   "cell_type": "code",
   "execution_count": 61,
   "metadata": {},
   "outputs": [
    {
     "name": "stderr",
     "output_type": "stream",
     "text": [
      "Number of requested results 4 is greater than number of elements in index 2, updating n_results = 2\n"
     ]
    },
    {
     "name": "stdout",
     "output_type": "stream",
     "text": [
      "```python\n",
      "from pyspark.sql import SparkSession\n",
      "from pyspark.sql.types import *\n",
      "from pyspark.sql.functions import *\n",
      "\n",
      "# Create a SparkSession\n",
      "spark = SparkSession.builder.appName(\"OracleQuery\").getOrCreate()\n",
      "\n",
      "# Define the connection parameters\n",
      "url = \"jdbc:oracle:thin:@<hostname>:<port>/<database_name>\"\n",
      "driver = \"oracle.jdbc.driver.OracleDriver\"\n",
      "user = \"<username>\"\n",
      "password = \"<password>\"\n",
      "\n",
      "# Create a DataFrame from the Oracle table\n",
      "df = spark.read.format(\"jdbc\") \\\n",
      "    .option(\"url\", url) \\\n",
      "    .option(\"driver\", driver) \\\n",
      "    .option(\"user\", user) \\\n",
      "    .option(\"password\", password) \\\n",
      "    .option(\"dbtable\", \"employees\") \\\n",
      "    .load()\n",
      "\n",
      "# Retrieve the first 100 records\n",
      "df.limit(100).show()\n",
      "\n",
      "# Close the SparkSession\n",
      "spark.stop()\n",
      "```\n"
     ]
    }
   ],
   "source": [
    "prompt = \"\"\"Write queries to retrieve 100 records from employees database using pyspark for oracle database: \n",
    "          1. Connect to the Database \n",
    "        2. Execute query \n",
    "        3. Retrieve results  \"\"\"\n",
    "\n",
    "# Run RAG chain\n",
    "result = query_generation_chain.invoke(prompt)\n",
    "print(result)"
   ]
  },
  {
   "cell_type": "code",
   "execution_count": 60,
   "metadata": {},
   "outputs": [
    {
     "name": "stderr",
     "output_type": "stream",
     "text": [
      "Number of requested results 4 is greater than number of elements in index 2, updating n_results = 2\n"
     ]
    },
    {
     "name": "stdout",
     "output_type": "stream",
     "text": [
      "```python\n",
      "import cx_Oracle\n",
      "import pandas as pd\n",
      "\n",
      "# Replace with your Oracle connection details\n",
      "conn_string = 'username/password@host:port/service_name'\n",
      "\n",
      "# Connect to the database\n",
      "conn = cx_Oracle.connect(conn_string)\n",
      "\n",
      "# Create a cursor object\n",
      "cursor = conn.cursor()\n",
      "\n",
      "# Execute the query\n",
      "cursor.execute(\"SELECT * FROM employees WHERE ROWNUM <= 100\")\n",
      "\n",
      "# Fetch the results\n",
      "results = cursor.fetchall()\n",
      "\n",
      "# Create a Pandas DataFrame from the results\n",
      "df = pd.DataFrame(results, columns=[desc[0] for desc in cursor.description])\n",
      "\n",
      "# Print the DataFrame\n",
      "print(df)\n",
      "\n",
      "# Close the cursor and connection\n",
      "cursor.close()\n",
      "conn.close()\n",
      "```\n"
     ]
    }
   ],
   "source": [
    "prompt = \"\"\"Write queries to retrieve 100 records from employees database using pandas python for oracle database: \n",
    "          1. Connect to the Database \n",
    "        2. Execute query \n",
    "        3. Retrieve results  \"\"\"\n",
    "\n",
    "# Run RAG chain\n",
    "result = query_generation_chain.invoke(prompt)\n",
    "print(result)"
   ]
  },
  {
   "cell_type": "markdown",
   "metadata": {},
   "source": [
    "### Test Data Generation"
   ]
  },
  {
   "cell_type": "code",
   "execution_count": 69,
   "metadata": {},
   "outputs": [
    {
     "name": "stderr",
     "output_type": "stream",
     "text": [
      "Number of requested results 4 is greater than number of elements in index 2, updating n_results = 2\n"
     ]
    },
    {
     "name": "stdout",
     "output_type": "stream",
     "text": [
      "```csv\n",
      "EMPLOYEE_ID,FIRST_NAME,LAST_NAME,EMAIL,PHONE_NUMBER,HIRE_DATE,JOB_ID,SALARY,COMMISSION_PCT,MANAGER_ID,DEPARTMENT_ID\n",
      "1,Steven,King,SKING,515.123.4567,1987-06-17,AD_PRES,24000,0,NULL,90\n",
      "2,Neena,Kochhar,NKOCHHAR,515.123.4568,1989-09-21,AD_VP,17000,0,1,90\n",
      "3,Lex,De Haan,LDEHAAN,515.123.4569,1993-01-13,AD_VP,17000,0,1,90\n",
      "4,Alexander,Hunold,AHUNOLD,590.423.4567,1990-03-03,IT_PROG,9000,0,2,60\n",
      "5,Bruce,Ernst,BERNST,590.423.4568,1991-05-21,IT_PROG,6000,0,2,60\n",
      "6,David,Austin,DAUSTIN,590.423.4569,1997-06-25,IT_PROG,6000,0,2,60\n",
      "7,Valli,Pataballa,VPATABAL,590.423.4570,1998-02-05,IT_PROG,4800,0,2,60\n",
      "8,Diana,Lorentz,DLORENTZ,590.423.5567,1999-02-07,IT_PROG,4200,0,2,60\n",
      "9,Nancy,Greenberg,NGREENBE,515.124.4569,1989-12-08,FI_MGR,12008,0,3,100\n",
      "10,Daniel,Faviet,DFAVIET,515.124.4169,1994-08-16,FI_ACCOUNT,9000,0,9,100\n",
      "11,John,Chen,JCHEN,515.124.4269,1997-09-20,FI_ACCOUNT,8200,0,9,100\n",
      "12,Ismael,Sciarra,ISCIARRA,515.124.4369,1997-07-30,FI_ACCOUNT,7700,0,9,100\n",
      "13,Jose,Manuel,JMANU,515.124.4469,1999-09-07,FI_ACCOUNT,7800,0,9,100\n",
      "14,Luis,Popp,LPOPP,515.124.4567,1999-12-07,FI_ACCOUNT,6900,0,9,100\n",
      "15,Den,Raphaely,DRAPHAEL,515.127.4561,1994-12-07,PU_CLERK,11000,0,14,30\n",
      "16,Alexander,Khoo,AKHOO,515.127.4562,1995-03-18,PU_CLERK,3100,0,14,30\n",
      "17,Shelli,Baida,SBAIDA,515.127.4563,1997-12-24,PU_CLERK,2900,0,14,30\n",
      "18,Sigal,Tobias,STOBIAS,515.127.4564,1997-07-24,PU_CLERK,2800,0,14,30\n",
      "19,Guy,Himuro,GHIMURO,515.127.4565,1998-11-15,PU_CLERK,2600,0,14,30\n",
      "20,Karen,Collett,KCOLLETT,515.127.4566,1999-08-26,PU_CLERK,2500,0,14,30\n",
      "21,Jennifer,Whalen,JWHALEN,515.124.4568,1987-09-08,AD_ASST,4400,0,10,90\n",
      "22,Michael,Hartstein,MHARTSTE,515.124.4569,1996-02-17,MK_MAN,13000,0,1,20\n",
      "23,Pat,Fay,PFAY,603.123.4567,1997-08-17,MK_REP,6000,0,22,20\n",
      "24,Susan,Mavris,SMAVRIS,515.123.4568,1998-06-07,HR_REP,6500,0,22,20\n",
      "25,Hermann,Baer,HBAER,515.123.4569,1994-07-01,PR_REP,10000,0,22,20\n",
      "26,Shelley,Higgins,SHIGGINS,515.123.4570,1994-06-07,AC_MGR,12008,0,22,80\n",
      "27,William,Gietz,WGIETZ,515.123.4571,1994-06-07,AC_ACCOUNT,8300,0,26,80\n",
      "28,Randall,Matos,RMATOS,515.123.4572,1994-06-07,AC_ACCOUNT,8600,0,26,80\n",
      "29,Peter,Vargas,PVARGAS,515.123.4573,1994-06-07,AC_ACCOUNT,7300,0,26,80\n",
      "30,Laura,Bissot,LBISSOT,515.123.4574,1994-06-07,AC_ACCOUNT,6900,0,26,80\n",
      "31,Mozhe,Atkinson,MATKINSO,515.123.4575,1994-06-07,AC_ACCOUNT,6200,0,26,80\n",
      "32,James,Marlow,JMARLOW,515.123.4576,1994-06-07,AC_ACCOUNT,6400,0,26,80\n",
      "33,TJ,Olson,TOLSON,515.123.4577,1994-06-07,AC_ACCOUNT,6200,0,26,80\n",
      "34,Christian,Erickson,CERICKSO,515.123.4578,1994-06-07,AC_ACCOUNT,5800,0,26,80\n",
      "35,Jennifer,Vargas,JVARGAS,515.123.4579,1994-06-07,AC_ACCOUNT,5300,0,26,80\n",
      "36,Kevin,Mourgos,KMOURGOS,515.123.4580,1994-06-07,AC_ACCOUNT,5800,0,26,80\n",
      "37,Julia,Nayer,JNAYER,515.124.4568,1994-07-16,ST_CLERK,3400,0,29,50\n",
      "38,Irene,Mikkilineni,IMIKKILI,515.124.4569,1994-07-27,ST_CLERK,2700,0,29,50\n",
      "39,James,Landry,JLANDRY,515.124.4560,1995-01-14,ST_CLERK,2400,0,29,50\n",
      "40,Steven,Markle,SMARKLE,515.124.4561,1995-03-08,ST_CLERK,2200,0,29,50\n",
      "41,Laura,Stiles,LSTILES,515.124.4562,1997-02-23,ST_CLERK,3300,0,29,50\n",
      "42,George,Davies,GDAVIES,515.124.4563,1996-08-14,ST_CLERK,2800,0,29,50\n",
      "43,Randy,Mathews,RMATHEWS,515.124.4564,1998-07-16,ST_CLERK,2600,0,29,50\n",
      "44,John,Russell,JRUSSEL,515.124.4565,1996-10-01,ST_CLERK,2400,0,29,50\n",
      "45,Karen,Partners,KPARTNER,515.124.4566,1997-05-01,ST_CLERK,2500,0,29,50\n",
      "46,Alberto,Errazuriz,AERRZURI,515.124.4567,1997-10-10,ST_CLERK,2200,0,29,50\n",
      "47,Gerald,Cambrault,GCAMBRAU,515.124.4568,1999-09-15,ST_CLERK,2900,0,29,50\n",
      "48,Eleni,Zlotkey,EZLOTKEY,515.124.4569,2000-01-29,ST_CLERK,2500,0,29,50\n",
      "49,Peter,Tucker,PTUCKER,515.124.4570,1998-01-30,ST_CLERK,2600,0,29,50\n",
      "50,David,Bernstein,DBERNSTE,515.124.4571,1997-08-20,ST_CLERK,2400,0,29,50\n",
      "```\n"
     ]
    }
   ],
   "source": [
    "prompt = \"\"\"Generate 50 rows of data in .csv format for the employees table  \"\"\"\n",
    "\n",
    "# Run RAG chain\n",
    "result = query_generation_chain.invoke(prompt)\n",
    "print(result)"
   ]
  }
 ],
 "metadata": {
  "kernelspec": {
   "display_name": "Python 3",
   "language": "python",
   "name": "python3"
  },
  "language_info": {
   "codemirror_mode": {
    "name": "ipython",
    "version": 3
   },
   "file_extension": ".py",
   "mimetype": "text/x-python",
   "name": "python",
   "nbconvert_exporter": "python",
   "pygments_lexer": "ipython3",
   "version": "3.11.5"
  }
 },
 "nbformat": 4,
 "nbformat_minor": 2
}
