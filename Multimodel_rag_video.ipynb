{
 "cells": [
  {
   "cell_type": "markdown",
   "metadata": {},
   "source": [
    "# Elements to consider while designing Multi-Modal RAG\n",
    "\n",
    "    1. Extract and Utilize the written text in video \n",
    "    2. Extract and Utilize pure visual information in the video \n",
    "    3.Extract and Utilize the information that is being spoken out in the video \n",
    "    4. Ability to hold multi-turn conversation about content in the video\n"
   ]
  }
 ],
 "metadata": {
  "kernelspec": {
   "display_name": "Python 3",
   "language": "python",
   "name": "python3"
  },
  "language_info": {
   "codemirror_mode": {
    "name": "ipython",
    "version": 3
   },
   "file_extension": ".py",
   "mimetype": "text/x-python",
   "name": "python",
   "nbconvert_exporter": "python",
   "pygments_lexer": "ipython3",
   "version": "3.11.5"
  }
 },
 "nbformat": 4,
 "nbformat_minor": 2
}
