{
 "cells": [
  {
   "cell_type": "code",
   "execution_count": 2,
   "metadata": {},
   "outputs": [],
   "source": [
    "# Import Necessary Libraries\n",
    "\n",
    "from dotenv import load_dotenv, dotenv_values\n",
    "import google.generativeai as genai\n",
    "from IPython.display import Markdown, display\n",
    "import os\n",
    "\n",
    "# Load .env file\n",
    "\n",
    "load_dotenv()\n",
    "\n",
    "# Set the TESSDATA_PREFIX environment variable\n",
    "\n",
    "tessdata = os.getenv(\"TESSDATA_PREFIX\")\n",
    "os.environ['TESSDATA_PREFIX'] = tessdata\n",
    "\n",
    "# Set the Google api key\n",
    "\n",
    "my_api_key = os.getenv(\"GOOGLE_API_KEY\")\n",
    "genai.configure(api_key=my_api_key)"
   ]
  },
  {
   "cell_type": "code",
   "execution_count": 18,
   "metadata": {},
   "outputs": [
    {
     "name": "stdout",
     "output_type": "stream",
     "text": [
      "CPU times: total: 0 ns\n",
      "Wall time: 3 ms\n"
     ]
    }
   ],
   "source": [
    "\n",
    "%%time\n",
    "from langchain_google_genai import ChatGoogleGenerativeAI, GoogleGenerativeAIEmbeddings,GoogleGenerativeAI\n",
    "\n",
    "model = ChatGoogleGenerativeAI(model= \"gemini-1.5-flash\", temperature = 0,max_output_tokens=200)\n"
   ]
  },
  {
   "cell_type": "code",
   "execution_count": 4,
   "metadata": {},
   "outputs": [],
   "source": [
    "from typing import Literal\n",
    "\n",
    "from langchain_core.prompts import ChatPromptTemplate\n",
    "from langchain_core.pydantic_v1 import BaseModel, Field\n",
    "\n",
    "# Data model\n",
    "class RouteQuery(BaseModel):\n",
    "    \"\"\"Route a user query to the most relevant datasource.\"\"\"\n",
    "\n",
    "    datasource: Literal[\"python\", \"js\", \"golang\"] = Field(\n",
    "        ...,\n",
    "        description=\"Given a user question choose which datasource would be most relevant for answering their question\",\n",
    "    )\n",
    "\n",
    "# LLM with function call \n",
    "structured_llm = model.with_structured_output(RouteQuery)\n",
    "\n",
    "# Prompt \n",
    "system = \"\"\"You are an expert at routing a user question to the appropriate data source.\n",
    "\n",
    "Based on the programming language the question is referring to, route it to the relevant data source.\"\"\"\n",
    "\n",
    "prompt = ChatPromptTemplate.from_messages(\n",
    "    [\n",
    "        (\"system\", system),\n",
    "        (\"human\", \"{question}\"),\n",
    "    ]\n",
    ")\n",
    "\n",
    "# Define router \n",
    "chain = prompt | structured_llm\n"
   ]
  },
  {
   "cell_type": "code",
   "execution_count": 29,
   "metadata": {},
   "outputs": [],
   "source": [
    "from langchain_core.prompts import PromptTemplate\n",
    "\n",
    "python_chain = PromptTemplate.from_template(\n",
    "    \"\"\"You are an expert in python. \\\n",
    "Respond to the following question:\n",
    "\n",
    "Question: {question}\n",
    "Answer:\"\"\"\n",
    ") | model\n",
    "js_chain = PromptTemplate.from_template(\n",
    "    \"\"\"You are an expert in js. \\\n",
    "Respond to the following question:\n",
    "\n",
    "Question: {question}\n",
    "Answer:\"\"\"\n",
    ") | model\n",
    "golang_chain = PromptTemplate.from_template(\n",
    "    \"\"\"You are an expert in golang. \\\n",
    "Respond to the following question:\n",
    "Question: {question}\n",
    "Answer:\"\"\"\n",
    ") | model"
   ]
  },
  {
   "cell_type": "code",
   "execution_count": 30,
   "metadata": {},
   "outputs": [],
   "source": [
    "def choose_route(question):\n",
    "    result = chain.invoke({\"question\": question})\n",
    "    if \"python\" in result.datasource.lower():\n",
    "        ### Logic here \n",
    "        print(\"Using Python\")\n",
    "        return python_chain\n",
    "    elif \"js\" in result.datasource.lower():\n",
    "        ### Logic here \n",
    "        print(\"Using js\")\n",
    "        return js_chain\n",
    "    else:\n",
    "        ### Logic here \n",
    "        print(\"Using Golang\")\n",
    "        return golang_chain\n",
    "\n",
    "from langchain_core.runnables import RunnableLambda\n",
    "\n",
    "#full_chain = router | RunnableLambda(choose_route)"
   ]
  },
  {
   "cell_type": "code",
   "execution_count": 31,
   "metadata": {},
   "outputs": [],
   "source": [
    "from langchain_core.runnables import RunnableLambda\n",
    "from langchain_core.output_parsers import StrOutputParser\n",
    "\n",
    "full_chain = {\"topic\": chain, \"question\": lambda x: x[\"question\"]} | RunnableLambda(\n",
    "    choose_route ) |StrOutputParser()"
   ]
  },
  {
   "cell_type": "code",
   "execution_count": 32,
   "metadata": {},
   "outputs": [
    {
     "name": "stdout",
     "output_type": "stream",
     "text": [
      "Using Python\n",
      "CPU times: total: 0 ns\n",
      "Wall time: 3.13 s\n"
     ]
    }
   ],
   "source": [
    "\n",
    "%%time\n",
    "result = full_chain.invoke({\"question\": \"How to work with Python in windows\"})\n"
   ]
  },
  {
   "cell_type": "code",
   "execution_count": 33,
   "metadata": {},
   "outputs": [
    {
     "name": "stdout",
     "output_type": "stream",
     "text": [
      "{'input_tokens': 8, 'output_tokens': 200, 'total_tokens': 208}\n",
      "CPU times: total: 0 ns\n",
      "Wall time: 1.9 s\n"
     ]
    }
   ],
   "source": [
    "%%time\n",
    "result1 = model.invoke(\"How to work with Python in windows\")\n",
    "print(result1.usage_metadata)"
   ]
  }
 ],
 "metadata": {
  "kernelspec": {
   "display_name": "Python 3",
   "language": "python",
   "name": "python3"
  },
  "language_info": {
   "codemirror_mode": {
    "name": "ipython",
    "version": 3
   },
   "file_extension": ".py",
   "mimetype": "text/x-python",
   "name": "python",
   "nbconvert_exporter": "python",
   "pygments_lexer": "ipython3",
   "version": "3.11.5"
  }
 },
 "nbformat": 4,
 "nbformat_minor": 2
}
